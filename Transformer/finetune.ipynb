{
 "cells": [
  {
   "cell_type": "code",
   "execution_count": 1,
   "metadata": {},
   "outputs": [],
   "source": [
    "import os \n",
    "os.environ[\"CUDA_VISIBLE_DEVICES\"] = \"2\""
   ]
  },
  {
   "cell_type": "code",
   "execution_count": null,
   "metadata": {},
   "outputs": [],
   "source": [
    "import torch\n",
    "import torch.nn as nn\n",
    "import numpy as np\n",
    "import pandas as pd\n",
    "import matplotlib.pyplot as plt\n",
    "from torch.utils.data import DataLoader"
   ]
  },
  {
   "cell_type": "code",
   "execution_count": 3,
   "metadata": {},
   "outputs": [],
   "source": [
    "from preprocess import Data_for_transformer_cnn_train, preprocess_data,Data_for_transformer_cnn_test\n",
    "from Encoder_model import make_Encoder_model\n",
    "from train_test_utils import  plot_results, train_eval\n",
    "from loss_mask_utils import create_mask"
   ]
  },
  {
   "cell_type": "code",
   "execution_count": 4,
   "metadata": {},
   "outputs": [
    {
     "name": "stdout",
     "output_type": "stream",
     "text": [
      "preprocess is done\n",
      "preprocess is done\n"
     ]
    }
   ],
   "source": [
    "file_path_train = r'/home/aletovv/Learning-To-Rank/other models and so on/datas_full_10k_1.pkl'\n",
    "file_path_test = r'/home/aletovv/Learning-To-Rank/other models and so on/datas_full_10k_1.pkl'\n",
    "\n",
    "train_data = preprocess_data(file_path_train,num_docs=850, which=0, is_shuffle=True, for_cnn=False, device = 'cuda')\n",
    "val_data = preprocess_data(file_path_test, num_docs=908, which=-1, is_shuffle=True, for_cnn=False, device = 'cuda')"
   ]
  },
  {
   "cell_type": "code",
   "execution_count": 6,
   "metadata": {},
   "outputs": [],
   "source": [
    "def load_model(file):\n",
    "    model = make_Encoder_model()\n",
    "    state_dict = torch.load(file)\n",
    "    model.load_state_dict(state_dict)\n",
    "    model.to('cuda')\n",
    "    return model"
   ]
  },
  {
   "cell_type": "code",
   "execution_count": null,
   "metadata": {},
   "outputs": [],
   "source": [
    "batch_size_train = 1\n",
    "batch_size_test = 128\n",
    "\n",
    "train_dataset = Data_for_transformer_cnn_test(train_data)\n",
    "val_dataset = Data_for_transformer_cnn_test(val_data)\n",
    "\n",
    "\n",
    "train_loader = DataLoader(train_dataset, batch_size=batch_size_train, shuffle=True)\n",
    "val_loader = DataLoader(val_dataset, batch_size=batch_size_test, shuffle=True)"
   ]
  },
  {
   "cell_type": "code",
   "execution_count": 9,
   "metadata": {},
   "outputs": [],
   "source": [
    "def load_model(file, make_Encoder_model = make_Encoder_model):\n",
    "    model = make_Encoder_model()\n",
    "    state_dict = torch.load(file)\n",
    "    model.load_state_dict(state_dict)\n",
    "    model.to('cuda')\n",
    "    return model"
   ]
  },
  {
   "cell_type": "code",
   "execution_count": 10,
   "metadata": {},
   "outputs": [
    {
     "name": "stderr",
     "output_type": "stream",
     "text": [
      "/tmp/ipykernel_3226375/1620321834.py:3: FutureWarning: You are using `torch.load` with `weights_only=False` (the current default value), which uses the default pickle module implicitly. It is possible to construct malicious pickle data which will execute arbitrary code during unpickling (See https://github.com/pytorch/pytorch/blob/main/SECURITY.md#untrusted-models for more details). In a future release, the default value for `weights_only` will be flipped to `True`. This limits the functions that could be executed during unpickling. Arbitrary objects will no longer be allowed to be loaded via this mode unless they are explicitly allowlisted by the user via `torch.serialization.add_safe_globals`. We recommend you start setting `weights_only=True` for any use case where you don't have full control of the loaded file. Please open an issue on GitHub for any issues related to this experimental feature.\n",
      "  state_dict = torch.load(file)\n"
     ]
    }
   ],
   "source": [
    "model = load_model(file = r'/home/aletovv/Learning-To-Rank/Transformer/1st check for finetune istella.pth')\n",
    "\n",
    "new_data = preprocess_for_finetune(train_loader, model, p = 0.75)"
   ]
  },
  {
   "cell_type": "code",
   "execution_count": 16,
   "metadata": {},
   "outputs": [],
   "source": [
    "train_loader = DataLoader(train_dataset, batch_size=batch_size_train, shuffle=True)\n",
    "\n",
    "new_data = preprocess_for_finetune(train_loader, model, p = 0.75)\n",
    "train_dataset_fine = Dataset_for_finetune(new_data)\n",
    "\n",
    "train_loader = DataLoader(train_dataset_fine, batch_size=128, shuffle=True)\n"
   ]
  }
 ],
 "metadata": {
  "kernelspec": {
   "display_name": "v-env",
   "language": "python",
   "name": "python3"
  },
  "language_info": {
   "codemirror_mode": {
    "name": "ipython",
    "version": 3
   },
   "file_extension": ".py",
   "mimetype": "text/x-python",
   "name": "python",
   "nbconvert_exporter": "python",
   "pygments_lexer": "ipython3",
   "version": "3.12.4"
  }
 },
 "nbformat": 4,
 "nbformat_minor": 4
}
