{
 "cells": [
  {
   "cell_type": "code",
   "execution_count": 1,
   "metadata": {},
   "outputs": [],
   "source": [
    "import os\n",
    "os.environ['CUDA_VISIBLE_DEVICES'] = '0'\n",
    "import pickle\n",
    "from copy import deepcopy\n",
    "\n",
    "import numpy as np\n",
    "import pandas as pd\n",
    "\n",
    "import torch\n",
    "import torch.nn as nn\n",
    "from torch.utils.data import Dataset, DataLoader\n",
    "\n",
    "from itertools import permutations, combinations\n",
    "\n",
    "from datasets import Data_From_File\n",
    "from sklearn.metrics import ndcg_score\n",
    "from perms import Gk\n",
    "\n",
    "import matplotlib.pyplot as plt"
   ]
  },
  {
   "cell_type": "code",
   "execution_count": 2,
   "metadata": {},
   "outputs": [],
   "source": [
    "class Data_for_torch(Dataset, Data_From_File):\n",
    "    \n",
    "    def __init__(self, file, which = 0):\n",
    "        \n",
    "        self.data = pd.DataFrame(Data_From_File.open_file(file)[which]).drop('doc_id', axis = 1)\n",
    "        self.dict_data = self.data.set_index('query_id').T.to_dict('list')\n",
    "        self.keys = list(self.dict_data.keys())\n",
    "        \n",
    "    def __len__(self):\n",
    "        return len(self.dict_data)\n",
    "        \n",
    "    def __getitem__(self, idx):\n",
    "        key = self.keys[idx]\n",
    "        return self.dict_data[key]"
   ]
  },
  {
   "cell_type": "code",
   "execution_count": 3,
   "metadata": {},
   "outputs": [],
   "source": [
    "train_data = Data_for_torch('datas_full_10k_1.pkl', which = 0)\n",
    "vali_data = Data_for_torch('datas_full_10k_1.pkl', which = -1)"
   ]
  },
  {
   "cell_type": "code",
   "execution_count": 4,
   "metadata": {},
   "outputs": [],
   "source": [
    "train_loader = DataLoader(train_data, shuffle=True)\n",
    "test_loader = DataLoader(vali_data, batch_size=1)"
   ]
  },
  {
   "cell_type": "code",
   "execution_count": 5,
   "metadata": {},
   "outputs": [],
   "source": [
    "class ListNet(nn.Module):\n",
    "    def __init__(self,inp_size = 136, out_size = 1):\n",
    "        super().__init__()\n",
    "        self.model = nn.Sequential(\n",
    "            nn.Linear(inp_size, 256),\n",
    "            nn.ReLU(),\n",
    "            nn.Linear(256,128),\n",
    "            nn.ReLU(),\n",
    "            nn.Linear(128,64),\n",
    "            nn.ReLU(),\n",
    "            nn.Linear(64,out_size),\n",
    "            \n",
    "            \n",
    "        )\n",
    "        \n",
    "    def forward(self, X):\n",
    "        return self.model(X)\n",
    "    \n",
    "    dict_y = {}"
   ]
  },
  {
   "cell_type": "code",
   "execution_count": 20,
   "metadata": {},
   "outputs": [],
   "source": [
    "def get_ndcg():\n",
    "    pass\n",
    "def loss(p,y):\n",
    "    return torch.sum(y * torch.log(y / (p + 1e-6)))\n",
    "\n",
    "def train(train_dataloader, model, loss_fn, optimizer,sheluder, epochs, device, test = False, test_dataloader = None, k = 1):\n",
    "    global dict_y\n",
    "    \n",
    "    # model.to(device)\n",
    "    \n",
    "    pred_probs = nn.Softmax()\n",
    "    y_probs = nn.Softmax()\n",
    "    \n",
    "    train_loss = []\n",
    "    \n",
    "    model.train()\n",
    "    for i in range(epochs):\n",
    "        \n",
    "        loss_epoch = 0\n",
    "        \n",
    "        \n",
    "        for batch in train_dataloader:\n",
    "            X = batch[0].float().to(device)\n",
    "            y = batch[1].squeeze().float().to(device)\n",
    "            \n",
    "            preds = model(X).squeeze()\n",
    "            \n",
    "            probas_p = pred_probs(preds)\n",
    "            probas_y = y_probs(y)\n",
    "            \n",
    "            loss_ = loss_fn(probas_p, probas_y)\n",
    "            # los_ = kl_loss(probas_p, probas_y)\n",
    "            # print(loss_)\n",
    "            loss_.backward()\n",
    "            optimizer.step()\n",
    "            optimizer.zero_grad()\n",
    "            \n",
    "            loss_epoch += loss_\n",
    "            \n",
    "        sheluder.step(loss_epoch)  \n",
    "        \n",
    "        train_loss.append(loss_epoch.clone().detach().cpu().numpy()/6000)\n",
    "        print(loss_epoch/6000)\n",
    "        \n",
    "        # for name, param in model.named_parameters():\n",
    "        #     if param.grad is not None:\n",
    "        #         print(f'Градиент параметра {name}: {param.grad}')\n",
    "        #     else:\n",
    "        #         print(f'Градиент параметра {name} отсутствует')          \n",
    "            \n",
    "    return train_loss\n",
    "    \n",
    "    \n",
    "        \n",
    "from sklearn.metrics import ndcg_score\n",
    "\n",
    "def vali(loader, device = 'cuda'):\n",
    "    acc = 0\n",
    "    \n",
    "    length = len(loader)\n",
    "    for batch in loader:\n",
    "        # get_probs = torch.softma\n",
    "        \n",
    "        \n",
    "        X = batch[0].to(device)\n",
    "        y = batch[1].cpu().view(-1).numpy()\n",
    "        \n",
    "        preds = model(X.float()).view(-1).detach().cpu().numpy()\n",
    "        # print(y.shape, preds.shape, X.shape)\n",
    "        try:\n",
    "            acc += ndcg_score([list(y)], [list(preds)])\n",
    "        except:\n",
    "            # acc += 1\n",
    "            length -= 1\n",
    "            continue\n",
    "        \n",
    "    return acc / length\n",
    "    # return ndcg_score(list_of_y, list_of_preds)\n",
    "        \n",
    "def plot_loss(train_loss, num_epochs = 50):\n",
    "        plt.figure(figsize = (10,10))\n",
    "        \n",
    "        fig, ax = plt.subplots()\n",
    "        ax.set_title('train_loss')\n",
    "        ax.plot(range(num_epochs),train_loss)\n",
    "        ax.set_xlabel('epochs')\n",
    "        ax.set_ylabel('loss')\n",
    "        plt.grid()\n",
    "        plt.show()\n",
    "        \n",
    "            "
   ]
  },
  {
   "cell_type": "code",
   "execution_count": 12,
   "metadata": {},
   "outputs": [
    {
     "name": "stderr",
     "output_type": "stream",
     "text": [
      "/home/aletovv/anaconda3/envs/v-env/lib/python3.12/site-packages/torch/optim/lr_scheduler.py:62: UserWarning: The verbose parameter is deprecated. Please use get_last_lr() to access the learning rate.\n",
      "  warnings.warn(\n"
     ]
    }
   ],
   "source": [
    "device = 'cuda' if torch.cuda.is_available() else 'cpu'\n",
    "\n",
    "model = ListNet().to(device)\n",
    "\n",
    "kl_loss = nn.CrossEntropyLoss()\n",
    "\n",
    "opt_adam = torch.optim.AdamW(model.parameters(), lr=0.0001)\n",
    "\n",
    "m_loss = nn.MSELoss()\n",
    "scheduler = torch.optim.lr_scheduler.ReduceLROnPlateau(opt_adam, mode='min', patience=3, factor=0.1, verbose=True)"
   ]
  },
  {
   "cell_type": "code",
   "execution_count": 13,
   "metadata": {},
   "outputs": [
    {
     "name": "stdout",
     "output_type": "stream",
     "text": [
      "Number of trainable parameters: 76289\n"
     ]
    },
    {
     "data": {
      "text/plain": [
       "'cuda'"
      ]
     },
     "execution_count": 13,
     "metadata": {},
     "output_type": "execute_result"
    }
   ],
   "source": [
    "model_total_params = sum(p.numel() for p in model.parameters() if p.requires_grad)\n",
    "print(f'Number of trainable parameters: {model_total_params}')\n",
    "\n",
    "device = 'cuda' if torch.cuda.is_available() else 'cpu'\n",
    "device"
   ]
  },
  {
   "cell_type": "code",
   "execution_count": 14,
   "metadata": {},
   "outputs": [
    {
     "name": "stderr",
     "output_type": "stream",
     "text": [
      "/home/aletovv/anaconda3/envs/v-env/lib/python3.12/site-packages/torch/nn/modules/module.py:1736: UserWarning: Implicit dimension choice for softmax has been deprecated. Change the call to include dim=X as an argument.\n",
      "  return self._call_impl(*args, **kwargs)\n"
     ]
    },
    {
     "name": "stdout",
     "output_type": "stream",
     "text": [
      "tensor(9.0204, device='cuda:0', grad_fn=<DivBackward0>)\n",
      "tensor(5.7753, device='cuda:0', grad_fn=<DivBackward0>)\n",
      "tensor(1.1860, device='cuda:0', grad_fn=<DivBackward0>)\n",
      "tensor(0.8389, device='cuda:0', grad_fn=<DivBackward0>)\n",
      "tensor(0.5893, device='cuda:0', grad_fn=<DivBackward0>)\n",
      "tensor(0.4525, device='cuda:0', grad_fn=<DivBackward0>)\n",
      "tensor(0.4416, device='cuda:0', grad_fn=<DivBackward0>)\n",
      "tensor(0.4402, device='cuda:0', grad_fn=<DivBackward0>)\n",
      "tensor(0.4364, device='cuda:0', grad_fn=<DivBackward0>)\n",
      "tensor(0.4357, device='cuda:0', grad_fn=<DivBackward0>)\n",
      "tensor(0.4405, device='cuda:0', grad_fn=<DivBackward0>)\n",
      "tensor(0.4322, device='cuda:0', grad_fn=<DivBackward0>)\n",
      "tensor(0.4300, device='cuda:0', grad_fn=<DivBackward0>)\n",
      "tensor(0.4335, device='cuda:0', grad_fn=<DivBackward0>)\n",
      "tensor(0.4231, device='cuda:0', grad_fn=<DivBackward0>)\n",
      "tensor(0.4257, device='cuda:0', grad_fn=<DivBackward0>)\n",
      "tensor(0.4444, device='cuda:0', grad_fn=<DivBackward0>)\n",
      "tensor(0.4216, device='cuda:0', grad_fn=<DivBackward0>)\n",
      "tensor(0.4196, device='cuda:0', grad_fn=<DivBackward0>)\n",
      "tensor(0.4212, device='cuda:0', grad_fn=<DivBackward0>)\n",
      "tensor(0.4164, device='cuda:0', grad_fn=<DivBackward0>)\n",
      "tensor(0.4172, device='cuda:0', grad_fn=<DivBackward0>)\n",
      "tensor(0.4157, device='cuda:0', grad_fn=<DivBackward0>)\n",
      "tensor(0.4112, device='cuda:0', grad_fn=<DivBackward0>)\n",
      "tensor(0.4138, device='cuda:0', grad_fn=<DivBackward0>)\n",
      "tensor(0.4087, device='cuda:0', grad_fn=<DivBackward0>)\n",
      "tensor(0.4173, device='cuda:0', grad_fn=<DivBackward0>)\n",
      "tensor(0.4005, device='cuda:0', grad_fn=<DivBackward0>)\n",
      "tensor(0.4006, device='cuda:0', grad_fn=<DivBackward0>)\n",
      "tensor(0.3970, device='cuda:0', grad_fn=<DivBackward0>)\n",
      "tensor(0.3939, device='cuda:0', grad_fn=<DivBackward0>)\n",
      "tensor(0.3929, device='cuda:0', grad_fn=<DivBackward0>)\n",
      "tensor(0.3904, device='cuda:0', grad_fn=<DivBackward0>)\n",
      "tensor(0.3913, device='cuda:0', grad_fn=<DivBackward0>)\n",
      "tensor(0.3919, device='cuda:0', grad_fn=<DivBackward0>)\n",
      "tensor(0.3887, device='cuda:0', grad_fn=<DivBackward0>)\n",
      "tensor(0.3882, device='cuda:0', grad_fn=<DivBackward0>)\n",
      "tensor(0.3889, device='cuda:0', grad_fn=<DivBackward0>)\n",
      "tensor(0.3866, device='cuda:0', grad_fn=<DivBackward0>)\n",
      "tensor(0.3869, device='cuda:0', grad_fn=<DivBackward0>)\n",
      "tensor(0.3862, device='cuda:0', grad_fn=<DivBackward0>)\n",
      "tensor(0.3858, device='cuda:0', grad_fn=<DivBackward0>)\n",
      "tensor(0.3870, device='cuda:0', grad_fn=<DivBackward0>)\n",
      "tensor(0.3844, device='cuda:0', grad_fn=<DivBackward0>)\n",
      "tensor(0.3836, device='cuda:0', grad_fn=<DivBackward0>)\n",
      "tensor(0.3839, device='cuda:0', grad_fn=<DivBackward0>)\n",
      "tensor(0.3851, device='cuda:0', grad_fn=<DivBackward0>)\n",
      "tensor(0.3849, device='cuda:0', grad_fn=<DivBackward0>)\n",
      "tensor(0.3826, device='cuda:0', grad_fn=<DivBackward0>)\n",
      "tensor(0.3872, device='cuda:0', grad_fn=<DivBackward0>)\n"
     ]
    }
   ],
   "source": [
    "losses = train(train_dataloader=train_loader,\n",
    "      model = model,\n",
    "      loss_fn=loss,\n",
    "      optimizer=opt_adam,sheluder=scheduler,\n",
    "      epochs=50,\n",
    "      device = device)"
   ]
  },
  {
   "cell_type": "code",
   "execution_count": 21,
   "metadata": {},
   "outputs": [
    {
     "data": {
      "text/plain": [
       "<Figure size 1000x1000 with 0 Axes>"
      ]
     },
     "metadata": {},
     "output_type": "display_data"
    },
    {
     "data": {
      "image/png": "[encoded data removed]",
      "text/plain": [
       "<Figure size 640x480 with 1 Axes>"
      ]
     },
     "metadata": {},
     "output_type": "display_data"
    }
   ],
   "source": [
    "plot_loss(train_loss=losses)"
   ]
  },
  {
   "cell_type": "code",
   "execution_count": 22,
   "metadata": {},
   "outputs": [
    {
     "name": "stdout",
     "output_type": "stream",
     "text": [
      "the ndcg_score for trained model = 0.7232866724326324\n"
     ]
    }
   ],
   "source": [
    "print(f'the ndcg_score for trained model = {vali(test_loader )}')"
   ]
  }
 ],
 "metadata": {
  "kernelspec": {
   "display_name": "v-env",
   "language": "python",
   "name": "python3"
  },
  "language_info": {
   "codemirror_mode": {
    "name": "ipython",
    "version": 3
   },
   "file_extension": ".py",
   "mimetype": "text/x-python",
   "name": "python",
   "nbconvert_exporter": "python",
   "pygments_lexer": "ipython3",
   "version": "3.12.4"
  }
 },
 "nbformat": 4,
 "nbformat_minor": 2
}
