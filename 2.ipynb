{
 "cells": [
  {
   "cell_type": "code",
   "execution_count": 3,
   "metadata": {},
   "outputs": [],
   "source": [
    "import os\n",
    "os.environ['CUDA_VISIBLE_DEVICES'] = '0'\n",
    "import pickle\n",
    "from copy import deepcopy\n",
    "\n",
    "import numpy as np\n",
    "import pandas as pd\n",
    "\n",
    "import torch\n",
    "import torch.nn as nn\n",
    "from torch.utils.data import Dataset, DataLoader\n",
    "\n",
    "from itertools import permutations, combinations\n",
    "\n",
    "from datasets import Data_From_File\n",
    "from sklearn.metrics import ndcg_score\n",
    "from perms import Gk\n",
    "\n",
    "import matplotlib.pyplot as plt"
   ]
  },
  {
   "cell_type": "code",
   "execution_count": 4,
   "metadata": {},
   "outputs": [],
   "source": [
    "class Data_for_torch(Dataset, Data_From_File):\n",
    "    \n",
    "    def __init__(self, file, which = 0):\n",
    "        \n",
    "        self.data = pd.DataFrame(Data_From_File.open_file(file)[which]).drop('doc_id', axis = 1)\n",
    "        self.dict_data = self.data.set_index('query_id').T.to_dict('list')\n",
    "        self.keys = list(self.dict_data.keys())\n",
    "        \n",
    "    def __len__(self):\n",
    "        return len(self.dict_data)\n",
    "        \n",
    "    def __getitem__(self, idx):\n",
    "        key = self.keys[idx]\n",
    "        return self.dict_data[key]"
   ]
  },
  {
   "cell_type": "code",
   "execution_count": 5,
   "metadata": {},
   "outputs": [],
   "source": [
    "train_data = Data_for_torch('datas_full_10k_1.pkl', which = 0)\n",
    "vali_data = Data_for_torch('datas_full_10k_1.pkl', which = -1)"
   ]
  },
  {
   "cell_type": "code",
   "execution_count": 6,
   "metadata": {},
   "outputs": [],
   "source": [
    "train_loader = DataLoader(train_data, shuffle=True)\n",
    "test_loader = DataLoader(vali_data, batch_size=1)"
   ]
  },
  {
   "cell_type": "code",
   "execution_count": 7,
   "metadata": {},
   "outputs": [],
   "source": [
    "class ListNet(nn.Module):\n",
    "    def __init__(self,inp_size = 136, out_size = 1):\n",
    "        super().__init__()\n",
    "        self.model = nn.Sequential(\n",
    "            nn.Linear(inp_size, 256),\n",
    "            nn.ReLU(),\n",
    "            nn.Linear(256,128),\n",
    "            nn.ReLU(),\n",
    "            nn.Linear(128,64),\n",
    "            nn.ReLU(),\n",
    "            nn.Linear(64,out_size),\n",
    "            \n",
    "            \n",
    "        )\n",
    "        \n",
    "    def forward(self, X):\n",
    "        return self.model(X)\n",
    "    \n",
    "    dict_y = {}"
   ]
  },
  {
   "cell_type": "code",
   "execution_count": 13,
   "metadata": {},
   "outputs": [],
   "source": [
    "def get_ndcg():\n",
    "    pass\n",
    "def loss(p,y):\n",
    "    return torch.sum(y * torch.log(y / (p + 1e-6)))\n",
    "\n",
    "def train(train_dataloader, test_loader, model, loss_fn, optimizer,sheluder, epochs, device, test = False, test_dataloader = None, k = 1):\n",
    "    global dict_y\n",
    "    \n",
    "    # model.to(device)\n",
    "    def vali(loader = test_loader, device = 'cuda'):\n",
    "        acc = 0\n",
    "        \n",
    "        length = len(loader)\n",
    "        for batch in loader:\n",
    "            # get_probs = torch.softma\n",
    "            \n",
    "            \n",
    "            X = batch[0].to(device)\n",
    "            y = batch[1].cpu().view(-1).numpy()\n",
    "            \n",
    "            preds = model(X.float()).view(-1).detach().cpu().numpy()\n",
    "            # print(y.shape, preds.shape, X.shape)\n",
    "            try:\n",
    "                acc += ndcg_score([list(y)], [list(preds)])\n",
    "            except:\n",
    "                # acc += 1\n",
    "                length -= 1\n",
    "                continue\n",
    "            \n",
    "        return acc / length\n",
    "    \n",
    "    pred_probs = nn.Softmax(dim = -1)\n",
    "    y_probs = nn.Softmax(dim = -1)\n",
    "    \n",
    "    train_loss = []\n",
    "    metric = []\n",
    "    \n",
    "    model.train()\n",
    "    for i in range(epochs):\n",
    "        \n",
    "        loss_epoch = 0\n",
    "        \n",
    "        \n",
    "        for batch in train_dataloader:\n",
    "            X = batch[0].float().to(device)\n",
    "            y = batch[1].squeeze().float().to(device)\n",
    "            \n",
    "            preds = model(X).squeeze()\n",
    "            \n",
    "            probas_p = pred_probs(preds)\n",
    "            probas_y = y_probs(y)\n",
    "            \n",
    "            loss_ = loss_fn(probas_p, probas_y)\n",
    "            # los_ = kl_loss(probas_p, probas_y)\n",
    "            # print(loss_)\n",
    "            loss_.backward()\n",
    "            optimizer.step()\n",
    "            optimizer.zero_grad()\n",
    "            \n",
    "            loss_epoch += loss_\n",
    "            \n",
    "        sheluder.step(loss_epoch)  \n",
    "        \n",
    "        train_loss.append(loss_epoch.clone().detach().cpu().numpy()/6000)\n",
    "        \n",
    "        \n",
    "        model.eval()\n",
    "        metric.append(vali())\n",
    "        print(loss_epoch/6000, 'metric = ', metric[i])\n",
    "        # for name, param in model.named_parameters():\n",
    "        #     if param.grad is not None:\n",
    "        #         print(f'Градиент параметра {name}: {param.grad}')\n",
    "        #     else:\n",
    "        #         print(f'Градиент параметра {name} отсутствует')          \n",
    "            \n",
    "    return train_loss, metric\n",
    "    \n",
    "    \n",
    "        \n",
    "from sklearn.metrics import ndcg_score, dcg_score\n",
    "\n",
    "\n",
    "    # return ndcg_score(list_of_y, list_of_preds)\n",
    "        \n",
    "def plot_loss(train_loss,label, y_label, num_epochs = 50):\n",
    "        plt.figure(figsize = (10,10))\n",
    "        \n",
    "        fig, ax = plt.subplots()\n",
    "        ax.set_title(label)\n",
    "        ax.plot(range(num_epochs),train_loss)\n",
    "        ax.set_xlabel('epochs')\n",
    "        ax.set_ylabel(y_label)\n",
    "        plt.grid()\n",
    "        plt.show()\n",
    "        \n",
    "            "
   ]
  },
  {
   "cell_type": "code",
   "execution_count": 9,
   "metadata": {},
   "outputs": [
    {
     "name": "stderr",
     "output_type": "stream",
     "text": [
      "/home/aletovv/anaconda3/envs/v-env/lib/python3.12/site-packages/torch/optim/lr_scheduler.py:62: UserWarning: The verbose parameter is deprecated. Please use get_last_lr() to access the learning rate.\n",
      "  warnings.warn(\n"
     ]
    }
   ],
   "source": [
    "device = 'cuda' if torch.cuda.is_available() else 'cpu'\n",
    "\n",
    "model = ListNet().to(device)\n",
    "\n",
    "kl_loss = nn.CrossEntropyLoss()\n",
    "\n",
    "opt_adam = torch.optim.AdamW(model.parameters(), lr=0.0001)\n",
    "\n",
    "m_loss = nn.MSELoss()\n",
    "scheduler = torch.optim.lr_scheduler.ReduceLROnPlateau(opt_adam, mode='min', patience=3, factor=0.1, verbose=True)"
   ]
  },
  {
   "cell_type": "code",
   "execution_count": 10,
   "metadata": {},
   "outputs": [
    {
     "name": "stdout",
     "output_type": "stream",
     "text": [
      "Number of trainable parameters: 76289\n"
     ]
    },
    {
     "data": {
      "text/plain": [
       "'cuda'"
      ]
     },
     "execution_count": 10,
     "metadata": {},
     "output_type": "execute_result"
    }
   ],
   "source": [
    "model_total_params = sum(p.numel() for p in model.parameters() if p.requires_grad)\n",
    "print(f'Number of trainable parameters: {model_total_params}')\n",
    "\n",
    "device = 'cuda' if torch.cuda.is_available() else 'cpu'\n",
    "device"
   ]
  },
  {
   "cell_type": "code",
   "execution_count": 11,
   "metadata": {},
   "outputs": [
    {
     "name": "stdout",
     "output_type": "stream",
     "text": [
      "tensor(8.9167, device='cuda:0', grad_fn=<DivBackward0>) metric =  0.6378181181607464\n",
      "tensor(1.3861, device='cuda:0', grad_fn=<DivBackward0>) metric =  0.6674728441952762\n",
      "tensor(0.7851, device='cuda:0', grad_fn=<DivBackward0>) metric =  0.6287587967984989\n",
      "tensor(0.6468, device='cuda:0', grad_fn=<DivBackward0>) metric =  0.6898655423217359\n",
      "tensor(0.6398, device='cuda:0', grad_fn=<DivBackward0>) metric =  0.6377253359229883\n",
      "tensor(0.4725, device='cuda:0', grad_fn=<DivBackward0>) metric =  0.640499390752974\n",
      "tensor(0.4440, device='cuda:0', grad_fn=<DivBackward0>) metric =  0.6400631017673214\n",
      "tensor(0.4662, device='cuda:0', grad_fn=<DivBackward0>) metric =  0.6397853409217216\n",
      "tensor(0.4400, device='cuda:0', grad_fn=<DivBackward0>) metric =  0.6390731617258878\n",
      "tensor(0.4347, device='cuda:0', grad_fn=<DivBackward0>) metric =  0.6403418471370779\n",
      "tensor(0.4412, device='cuda:0', grad_fn=<DivBackward0>) metric =  0.6391814935279425\n",
      "tensor(0.4326, device='cuda:0', grad_fn=<DivBackward0>) metric =  0.662183928671712\n",
      "tensor(0.4308, device='cuda:0', grad_fn=<DivBackward0>) metric =  0.6510449511519224\n",
      "tensor(0.4298, device='cuda:0', grad_fn=<DivBackward0>) metric =  0.6417011660172026\n",
      "tensor(0.4299, device='cuda:0', grad_fn=<DivBackward0>) metric =  0.626749786570522\n",
      "tensor(0.4306, device='cuda:0', grad_fn=<DivBackward0>) metric =  0.6743767404298965\n",
      "tensor(0.4271, device='cuda:0', grad_fn=<DivBackward0>) metric =  0.6403461178953883\n",
      "tensor(0.4261, device='cuda:0', grad_fn=<DivBackward0>) metric =  0.6517982381100278\n",
      "tensor(0.4251, device='cuda:0', grad_fn=<DivBackward0>) metric =  0.674855003778351\n",
      "tensor(0.4229, device='cuda:0', grad_fn=<DivBackward0>) metric =  0.6610281274081653\n",
      "tensor(0.4298, device='cuda:0', grad_fn=<DivBackward0>) metric =  0.6660188562711056\n",
      "tensor(0.4229, device='cuda:0', grad_fn=<DivBackward0>) metric =  0.6424075321885347\n",
      "tensor(0.4273, device='cuda:0', grad_fn=<DivBackward0>) metric =  0.6807442052188193\n",
      "tensor(0.4191, device='cuda:0', grad_fn=<DivBackward0>) metric =  0.6767805715222082\n",
      "tensor(0.4154, device='cuda:0', grad_fn=<DivBackward0>) metric =  0.6556602226814989\n",
      "tensor(0.4203, device='cuda:0', grad_fn=<DivBackward0>) metric =  0.6946887448966698\n",
      "tensor(0.4171, device='cuda:0', grad_fn=<DivBackward0>) metric =  0.6864670724780985\n",
      "tensor(0.4148, device='cuda:0', grad_fn=<DivBackward0>) metric =  0.6976027260692296\n",
      "tensor(0.4131, device='cuda:0', grad_fn=<DivBackward0>) metric =  0.6627274489071786\n",
      "tensor(0.4157, device='cuda:0', grad_fn=<DivBackward0>) metric =  0.6997754914975302\n",
      "tensor(0.4121, device='cuda:0', grad_fn=<DivBackward0>) metric =  0.6736287760060419\n",
      "tensor(0.4101, device='cuda:0', grad_fn=<DivBackward0>) metric =  0.7070819124277563\n",
      "tensor(0.4109, device='cuda:0', grad_fn=<DivBackward0>) metric =  0.6994894165077391\n",
      "tensor(0.4193, device='cuda:0', grad_fn=<DivBackward0>) metric =  0.696738318541244\n",
      "tensor(0.4091, device='cuda:0', grad_fn=<DivBackward0>) metric =  0.693136981942947\n",
      "tensor(0.4077, device='cuda:0', grad_fn=<DivBackward0>) metric =  0.7035828683988444\n",
      "tensor(0.4113, device='cuda:0', grad_fn=<DivBackward0>) metric =  0.6768188535520643\n",
      "tensor(0.4087, device='cuda:0', grad_fn=<DivBackward0>) metric =  0.7030099979164597\n",
      "tensor(0.4170, device='cuda:0', grad_fn=<DivBackward0>) metric =  0.6469633980246948\n",
      "tensor(0.4155, device='cuda:0', grad_fn=<DivBackward0>) metric =  0.7049907391401546\n",
      "tensor(0.3987, device='cuda:0', grad_fn=<DivBackward0>) metric =  0.7102534789472461\n",
      "tensor(0.3965, device='cuda:0', grad_fn=<DivBackward0>) metric =  0.7128016789944684\n",
      "tensor(0.3960, device='cuda:0', grad_fn=<DivBackward0>) metric =  0.7078126331259281\n",
      "tensor(0.3953, device='cuda:0', grad_fn=<DivBackward0>) metric =  0.7132066188376399\n",
      "tensor(0.3943, device='cuda:0', grad_fn=<DivBackward0>) metric =  0.7137507650040749\n",
      "tensor(0.3906, device='cuda:0', grad_fn=<DivBackward0>) metric =  0.716561111341574\n",
      "tensor(0.3888, device='cuda:0', grad_fn=<DivBackward0>) metric =  0.7189253830996593\n",
      "tensor(0.3881, device='cuda:0', grad_fn=<DivBackward0>) metric =  0.7193001373537424\n",
      "tensor(0.3886, device='cuda:0', grad_fn=<DivBackward0>) metric =  0.7207240508889117\n",
      "tensor(0.3870, device='cuda:0', grad_fn=<DivBackward0>) metric =  0.7197610241841104\n"
     ]
    }
   ],
   "source": [
    "losses = train(train_dataloader=train_loader,\n",
    "               test_loader= test_loader,\n",
    "      model = model,\n",
    "      loss_fn=loss,\n",
    "      optimizer=opt_adam,sheluder=scheduler,\n",
    "      epochs=50,\n",
    "      device = device)"
   ]
  },
  {
   "cell_type": "code",
   "execution_count": 14,
   "metadata": {},
   "outputs": [
    {
     "data": {
      "text/plain": [
       "<Figure size 1000x1000 with 0 Axes>"
      ]
     },
     "metadata": {},
     "output_type": "display_data"
    },
    {
     "data": {
      "image/png": "[encoded data removed]",
      "text/plain": [
       "<Figure size 640x480 with 1 Axes>"
      ]
     },
     "metadata": {},
     "output_type": "display_data"
    },
    {
     "data": {
      "text/plain": [
       "<Figure size 1000x1000 with 0 Axes>"
      ]
     },
     "metadata": {},
     "output_type": "display_data"
    },
    {
     "data": {
      "image/png": "[encoded data removed]",
      "text/plain": [
       "<Figure size 640x480 with 1 Axes>"
      ]
     },
     "metadata": {},
     "output_type": "display_data"
    }
   ],
   "source": [
    "plot_loss(train_loss=losses[0], label='train_loss', y_label='loss')\n",
    "\n",
    "plot_loss(train_loss = losses[1],label='metrics for vali', y_label='ndcg')"
   ]
  },
  {
   "cell_type": "code",
   "execution_count": null,
   "metadata": {},
   "outputs": [
    {
     "name": "stdout",
     "output_type": "stream",
     "text": [
      "the ndcg_score for trained model = 0.6318917300367795\n"
     ]
    }
   ],
   "source": [
    "# print(f'the ndcg_score for trained model = {vali(test_loader )}')"
   ]
  }
 ],
 "metadata": {
  "kernelspec": {
   "display_name": "v-env",
   "language": "python",
   "name": "python3"
  },
  "language_info": {
   "codemirror_mode": {
    "name": "ipython",
    "version": 3
   },
   "file_extension": ".py",
   "mimetype": "text/x-python",
   "name": "python",
   "nbconvert_exporter": "python",
   "pygments_lexer": "ipython3",
   "version": "3.12.4"
  }
 },
 "nbformat": 4,
 "nbformat_minor": 2
}
